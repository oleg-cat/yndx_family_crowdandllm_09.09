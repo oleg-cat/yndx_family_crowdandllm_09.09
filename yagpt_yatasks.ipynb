{
 "cells": [
  {
   "cell_type": "code",
   "execution_count": null,
   "id": "4672e51e-3460-4322-ba03-b928ebb4e44e",
   "metadata": {
    "tags": []
   },
   "outputs": [],
   "source": [
    "%pip install toloka-kit==0.1.12\n",
    "%pip install crowd-kit"
   ]
  },
  {
   "cell_type": "code",
   "execution_count": 14,
   "id": "b33ebc4c-0556-421f-b514-60d6ab49ac6e",
   "metadata": {
    "execution": {
     "iopub.execute_input": "2024-09-09T17:56:39.827679Z",
     "iopub.status.busy": "2024-09-09T17:56:39.826518Z",
     "iopub.status.idle": "2024-09-09T17:56:41.185180Z",
     "shell.execute_reply": "2024-09-09T17:56:41.184151Z",
     "shell.execute_reply.started": "2024-09-09T17:56:39.827631Z"
    },
    "tags": []
   },
   "outputs": [],
   "source": [
    "import toloka.client as toloka\n",
    "import toloka.client.project.template_builder as tb\n",
    "from crowdkit.aggregation import MajorityVote, DawidSkene"
   ]
  },
  {
   "cell_type": "code",
   "execution_count": 4,
   "id": "9ab4efb6-0256-40ec-9bcd-9a9828940b3d",
   "metadata": {
    "execution": {
     "iopub.execute_input": "2024-09-09T17:26:50.102309Z",
     "iopub.status.busy": "2024-09-09T17:26:50.101129Z",
     "iopub.status.idle": "2024-09-09T17:26:50.136320Z",
     "shell.execute_reply": "2024-09-09T17:26:50.135386Z",
     "shell.execute_reply.started": "2024-09-09T17:26:50.102250Z"
    },
    "tags": []
   },
   "outputs": [],
   "source": [
    "import os\n",
    "import json\n",
    "import time\n",
    "import random\n",
    "import requests\n",
    "from requests.adapters import HTTPAdapter\n",
    "from urllib3.util.retry import Retry\n",
    "import pandas as pd\n",
    "import numpy as np\n",
    "import datetime"
   ]
  },
  {
   "cell_type": "code",
   "execution_count": 5,
   "id": "3b81d358-4352-4845-b6f7-533f193f5bda",
   "metadata": {
    "execution": {
     "iopub.execute_input": "2024-09-09T17:26:57.039888Z",
     "iopub.status.busy": "2024-09-09T17:26:57.038581Z",
     "iopub.status.idle": "2024-09-09T17:26:57.057548Z",
     "shell.execute_reply": "2024-09-09T17:26:57.056664Z",
     "shell.execute_reply.started": "2024-09-09T17:26:57.039843Z"
    },
    "tags": []
   },
   "outputs": [],
   "source": [
    "direct_xlsx = pd.read_excel('./direct_etpgpb.xlsx')"
   ]
  },
  {
   "cell_type": "code",
   "execution_count": 6,
   "id": "a7c1ca30-e101-49d0-a8a9-9d1bd0c5cea5",
   "metadata": {
    "execution": {
     "iopub.execute_input": "2024-09-09T17:27:00.793109Z",
     "iopub.status.busy": "2024-09-09T17:27:00.792170Z",
     "iopub.status.idle": "2024-09-09T17:27:00.826929Z",
     "shell.execute_reply": "2024-09-09T17:27:00.826115Z",
     "shell.execute_reply.started": "2024-09-09T17:27:00.793059Z"
    },
    "tags": []
   },
   "outputs": [
    {
     "data": {
      "text/html": [
       "<div>\n",
       "<style scoped>\n",
       "    .dataframe tbody tr th:only-of-type {\n",
       "        vertical-align: middle;\n",
       "    }\n",
       "\n",
       "    .dataframe tbody tr th {\n",
       "        vertical-align: top;\n",
       "    }\n",
       "\n",
       "    .dataframe thead th {\n",
       "        text-align: right;\n",
       "    }\n",
       "</style>\n",
       "<table border=\"1\" class=\"dataframe\">\n",
       "  <thead>\n",
       "    <tr style=\"text-align: right;\">\n",
       "      <th></th>\n",
       "      <th>Заголовок</th>\n",
       "      <th>Текст</th>\n",
       "      <th>Ссылка</th>\n",
       "    </tr>\n",
       "  </thead>\n",
       "  <tbody>\n",
       "    <tr>\n",
       "      <th>0</th>\n",
       "      <td>Закупки и тендеры Москвы</td>\n",
       "      <td>На площадке ЭТП ГПБ тендеры Москвы представлен...</td>\n",
       "      <td>https://etpgpb.ru/</td>\n",
       "    </tr>\n",
       "    <tr>\n",
       "      <th>1</th>\n",
       "      <td>Закупки и тендеры</td>\n",
       "      <td>На площадке ЭТП ГПБ тендеры представлены от та...</td>\n",
       "      <td>https://etpgpb.ru/</td>\n",
       "    </tr>\n",
       "    <tr>\n",
       "      <th>2</th>\n",
       "      <td>Закупки и тендеры Москвы</td>\n",
       "      <td>На площадке ЭТП ГПБ тендеры Москвы представлен...</td>\n",
       "      <td>https://etpgpb.ru/landing/</td>\n",
       "    </tr>\n",
       "    <tr>\n",
       "      <th>3</th>\n",
       "      <td>Закупки и тендеры</td>\n",
       "      <td>На площадке ЭТП ГПБ тендеры представлены от та...</td>\n",
       "      <td>https://etpgpb.ru/landing/moskva/</td>\n",
       "    </tr>\n",
       "    <tr>\n",
       "      <th>4</th>\n",
       "      <td>Закупки и тендеры Москвы</td>\n",
       "      <td>На площадке ЭТП ГПБ тендеры Москвы представлен...</td>\n",
       "      <td>https://etpgpb.ru/regions/moskva/</td>\n",
       "    </tr>\n",
       "    <tr>\n",
       "      <th>5</th>\n",
       "      <td>Закупки и тендеры Москвы</td>\n",
       "      <td>На площадке ЭТП ГПБ тендеры Москвы представлен...</td>\n",
       "      <td>https://etpgpb.ru/portal/procedures/moskva/</td>\n",
       "    </tr>\n",
       "    <tr>\n",
       "      <th>6</th>\n",
       "      <td>Закупки и тендеры</td>\n",
       "      <td>На площадке ЭТП ГПБ тендеры представлены от та...</td>\n",
       "      <td>https://etpgpb.ru/landing/sankt-peterburg/</td>\n",
       "    </tr>\n",
       "    <tr>\n",
       "      <th>7</th>\n",
       "      <td>Закупки и тендеры Москвы</td>\n",
       "      <td>На площадке ЭТП ГПБ тендеры Москвы представлен...</td>\n",
       "      <td>https://etpgpb.ru/regions/sankt-peterburg/</td>\n",
       "    </tr>\n",
       "    <tr>\n",
       "      <th>8</th>\n",
       "      <td>Закупки и тендеры</td>\n",
       "      <td>На площадке ЭТП ГПБ тендеры представлены от та...</td>\n",
       "      <td>https://etpgpb.ru/portal/procedures/sankt-pete...</td>\n",
       "    </tr>\n",
       "    <tr>\n",
       "      <th>9</th>\n",
       "      <td>Закупки и тендеры Москвы</td>\n",
       "      <td>На площадке ЭТП ГПБ тендеры Москвы представлен...</td>\n",
       "      <td>https://etpgpb.ru/landing/leningradskaya-oblast/</td>\n",
       "    </tr>\n",
       "    <tr>\n",
       "      <th>10</th>\n",
       "      <td>Закупки и тендеры Москвы</td>\n",
       "      <td>На площадке ЭТП ГПБ тендеры Москвы представлен...</td>\n",
       "      <td>https://etpgpb.ru/regions/leningradskaya-oblast/</td>\n",
       "    </tr>\n",
       "    <tr>\n",
       "      <th>11</th>\n",
       "      <td>Закупки и тендеры</td>\n",
       "      <td>На площадке ЭТП ГПБ тендеры представлены от та...</td>\n",
       "      <td>https://etpgpb.ru/portal/procedures/leningrads...</td>\n",
       "    </tr>\n",
       "    <tr>\n",
       "      <th>12</th>\n",
       "      <td>Закупки и тендеры Москвы</td>\n",
       "      <td>На площадке ЭТП ГПБ тендеры Москвы представлен...</td>\n",
       "      <td>https://etpgpb.ru/landing/moskovskaya-oblast/</td>\n",
       "    </tr>\n",
       "    <tr>\n",
       "      <th>13</th>\n",
       "      <td>Закупки и тендеры Московской области</td>\n",
       "      <td>На площадке ЭТП ГПБ тендеры Московской области...</td>\n",
       "      <td>https://etpgpb.ru/regions/moskovskaya-oblast/</td>\n",
       "    </tr>\n",
       "    <tr>\n",
       "      <th>14</th>\n",
       "      <td>Закупки и тендеры Москвы</td>\n",
       "      <td>На площадке ЭТП ГПБ тендеры Москвы представлен...</td>\n",
       "      <td>https://etpgpb.ru/portal/procedures/moskovskay...</td>\n",
       "    </tr>\n",
       "    <tr>\n",
       "      <th>15</th>\n",
       "      <td>Закупки и тендеры Москвы</td>\n",
       "      <td>На площадке ЭТП ГПБ тендеры Москвы представлен...</td>\n",
       "      <td>https://etpgpb.ru/industry/sooruzheniya-i-stro...</td>\n",
       "    </tr>\n",
       "  </tbody>\n",
       "</table>\n",
       "</div>"
      ],
      "text/plain": [
       "                               Заголовок  ...                                             Ссылка\n",
       "0               Закупки и тендеры Москвы  ...                                 https://etpgpb.ru/\n",
       "1                      Закупки и тендеры  ...                                 https://etpgpb.ru/\n",
       "2               Закупки и тендеры Москвы  ...                         https://etpgpb.ru/landing/\n",
       "3                      Закупки и тендеры  ...                  https://etpgpb.ru/landing/moskva/\n",
       "4               Закупки и тендеры Москвы  ...                  https://etpgpb.ru/regions/moskva/\n",
       "5               Закупки и тендеры Москвы  ...        https://etpgpb.ru/portal/procedures/moskva/\n",
       "6                      Закупки и тендеры  ...         https://etpgpb.ru/landing/sankt-peterburg/\n",
       "7               Закупки и тендеры Москвы  ...         https://etpgpb.ru/regions/sankt-peterburg/\n",
       "8                      Закупки и тендеры  ...  https://etpgpb.ru/portal/procedures/sankt-pete...\n",
       "9               Закупки и тендеры Москвы  ...   https://etpgpb.ru/landing/leningradskaya-oblast/\n",
       "10              Закупки и тендеры Москвы  ...   https://etpgpb.ru/regions/leningradskaya-oblast/\n",
       "11                     Закупки и тендеры  ...  https://etpgpb.ru/portal/procedures/leningrads...\n",
       "12              Закупки и тендеры Москвы  ...      https://etpgpb.ru/landing/moskovskaya-oblast/\n",
       "13  Закупки и тендеры Московской области  ...      https://etpgpb.ru/regions/moskovskaya-oblast/\n",
       "14              Закупки и тендеры Москвы  ...  https://etpgpb.ru/portal/procedures/moskovskay...\n",
       "15              Закупки и тендеры Москвы  ...  https://etpgpb.ru/industry/sooruzheniya-i-stro...\n",
       "\n",
       "[16 rows x 3 columns]"
      ]
     },
     "execution_count": 6,
     "metadata": {},
     "output_type": "execute_result"
    }
   ],
   "source": [
    "direct_xlsx"
   ]
  },
  {
   "cell_type": "markdown",
   "id": "27d952d2-e0df-4961-8e4d-b4318175d0f6",
   "metadata": {},
   "source": [
    "### Простучим URL"
   ]
  },
  {
   "cell_type": "code",
   "execution_count": 7,
   "id": "2d6fd33a-497e-44b6-8645-904224d53090",
   "metadata": {
    "execution": {
     "iopub.execute_input": "2024-09-09T17:29:04.820630Z",
     "iopub.status.busy": "2024-09-09T17:29:04.819457Z",
     "iopub.status.idle": "2024-09-09T17:30:01.558674Z",
     "shell.execute_reply": "2024-09-09T17:30:01.557741Z",
     "shell.execute_reply.started": "2024-09-09T17:29:04.820576Z"
    },
    "tags": []
   },
   "outputs": [],
   "source": [
    "def check_urls(url, max_retries = 3):\n",
    "    session = requests.Session()\n",
    "    retry = Retry(total=max_retries, backoff_factor=0.1, status_forcelist=[500, 502, 503, 504])\n",
    "    adapter = HTTPAdapter(max_retries=retry)\n",
    "    session.mount('http://', adapter)\n",
    "    session.mount('https://', adapter)\n",
    "\n",
    "    headers = {\n",
    "        'User-Agent': 'Mozilla/5.0 (Windows NT 10.0; Win64; x64) AppleWebKit/537.36 (KHTML, like Gecko) Chrome/91.0.4472.124 Safari/537.36',\n",
    "        'Accept': 'text/html,application/xhtml+xml,application/xml;q=0.9,image/webp,image/apng,*/*;q=0.8',\n",
    "        'Accept-Language': 'en-US,en;q=0.9',\n",
    "        'Accept-Encoding': 'gzip, deflate, br',\n",
    "        'Referer': 'https://etpgpb.ru/',\n",
    "        'DNT': '1',\n",
    "        'Connection': 'keep-alive',\n",
    "        'Upgrade-Insecure-Requests': '1'\n",
    "    }\n",
    "    \n",
    "    time.sleep(3)\n",
    "\n",
    "    try:\n",
    "        response = session.get(url, headers=headers, timeout=45)\n",
    "        response.raise_for_status()\n",
    "        return str(response.status_code)\n",
    "    except requests.exceptions.HTTPError as e:\n",
    "        return str(response.status_code)\n",
    "    except requests.exceptions.ConnectionError as e:\n",
    "        print(f\"An error occurred: {e}\")\n",
    "        return None\n",
    "    except requests.exceptions.Timeout as e:\n",
    "        print(f\"An error occurred: {e}\")\n",
    "        return None\n",
    "\n",
    "    \n",
    "direct_xlsx[\"Ответ сервера\"] = direct_xlsx[\"Ссылка\"].apply(check_urls)"
   ]
  },
  {
   "cell_type": "code",
   "execution_count": 8,
   "id": "e38e833f-a762-4005-a50e-6f56d70cf3d0",
   "metadata": {
    "execution": {
     "iopub.execute_input": "2024-09-09T17:30:07.184945Z",
     "iopub.status.busy": "2024-09-09T17:30:07.183687Z",
     "iopub.status.idle": "2024-09-09T17:30:07.213475Z",
     "shell.execute_reply": "2024-09-09T17:30:07.212620Z",
     "shell.execute_reply.started": "2024-09-09T17:30:07.184898Z"
    },
    "tags": []
   },
   "outputs": [
    {
     "data": {
      "text/html": [
       "<div>\n",
       "<style scoped>\n",
       "    .dataframe tbody tr th:only-of-type {\n",
       "        vertical-align: middle;\n",
       "    }\n",
       "\n",
       "    .dataframe tbody tr th {\n",
       "        vertical-align: top;\n",
       "    }\n",
       "\n",
       "    .dataframe thead th {\n",
       "        text-align: right;\n",
       "    }\n",
       "</style>\n",
       "<table border=\"1\" class=\"dataframe\">\n",
       "  <thead>\n",
       "    <tr style=\"text-align: right;\">\n",
       "      <th></th>\n",
       "      <th>Заголовок</th>\n",
       "      <th>Текст</th>\n",
       "      <th>Ссылка</th>\n",
       "      <th>Ответ сервера</th>\n",
       "    </tr>\n",
       "  </thead>\n",
       "  <tbody>\n",
       "    <tr>\n",
       "      <th>0</th>\n",
       "      <td>Закупки и тендеры Москвы</td>\n",
       "      <td>На площадке ЭТП ГПБ тендеры Москвы представлен...</td>\n",
       "      <td>https://etpgpb.ru/</td>\n",
       "      <td>200</td>\n",
       "    </tr>\n",
       "    <tr>\n",
       "      <th>1</th>\n",
       "      <td>Закупки и тендеры</td>\n",
       "      <td>На площадке ЭТП ГПБ тендеры представлены от та...</td>\n",
       "      <td>https://etpgpb.ru/</td>\n",
       "      <td>200</td>\n",
       "    </tr>\n",
       "    <tr>\n",
       "      <th>2</th>\n",
       "      <td>Закупки и тендеры Москвы</td>\n",
       "      <td>На площадке ЭТП ГПБ тендеры Москвы представлен...</td>\n",
       "      <td>https://etpgpb.ru/landing/</td>\n",
       "      <td>200</td>\n",
       "    </tr>\n",
       "    <tr>\n",
       "      <th>3</th>\n",
       "      <td>Закупки и тендеры</td>\n",
       "      <td>На площадке ЭТП ГПБ тендеры представлены от та...</td>\n",
       "      <td>https://etpgpb.ru/landing/moskva/</td>\n",
       "      <td>404</td>\n",
       "    </tr>\n",
       "    <tr>\n",
       "      <th>4</th>\n",
       "      <td>Закупки и тендеры Москвы</td>\n",
       "      <td>На площадке ЭТП ГПБ тендеры Москвы представлен...</td>\n",
       "      <td>https://etpgpb.ru/regions/moskva/</td>\n",
       "      <td>200</td>\n",
       "    </tr>\n",
       "    <tr>\n",
       "      <th>5</th>\n",
       "      <td>Закупки и тендеры Москвы</td>\n",
       "      <td>На площадке ЭТП ГПБ тендеры Москвы представлен...</td>\n",
       "      <td>https://etpgpb.ru/portal/procedures/moskva/</td>\n",
       "      <td>200</td>\n",
       "    </tr>\n",
       "    <tr>\n",
       "      <th>6</th>\n",
       "      <td>Закупки и тендеры</td>\n",
       "      <td>На площадке ЭТП ГПБ тендеры представлены от та...</td>\n",
       "      <td>https://etpgpb.ru/landing/sankt-peterburg/</td>\n",
       "      <td>404</td>\n",
       "    </tr>\n",
       "    <tr>\n",
       "      <th>7</th>\n",
       "      <td>Закупки и тендеры Москвы</td>\n",
       "      <td>На площадке ЭТП ГПБ тендеры Москвы представлен...</td>\n",
       "      <td>https://etpgpb.ru/regions/sankt-peterburg/</td>\n",
       "      <td>200</td>\n",
       "    </tr>\n",
       "    <tr>\n",
       "      <th>8</th>\n",
       "      <td>Закупки и тендеры</td>\n",
       "      <td>На площадке ЭТП ГПБ тендеры представлены от та...</td>\n",
       "      <td>https://etpgpb.ru/portal/procedures/sankt-pete...</td>\n",
       "      <td>200</td>\n",
       "    </tr>\n",
       "    <tr>\n",
       "      <th>9</th>\n",
       "      <td>Закупки и тендеры Москвы</td>\n",
       "      <td>На площадке ЭТП ГПБ тендеры Москвы представлен...</td>\n",
       "      <td>https://etpgpb.ru/landing/leningradskaya-oblast/</td>\n",
       "      <td>404</td>\n",
       "    </tr>\n",
       "    <tr>\n",
       "      <th>10</th>\n",
       "      <td>Закупки и тендеры Москвы</td>\n",
       "      <td>На площадке ЭТП ГПБ тендеры Москвы представлен...</td>\n",
       "      <td>https://etpgpb.ru/regions/leningradskaya-oblast/</td>\n",
       "      <td>200</td>\n",
       "    </tr>\n",
       "    <tr>\n",
       "      <th>11</th>\n",
       "      <td>Закупки и тендеры</td>\n",
       "      <td>На площадке ЭТП ГПБ тендеры представлены от та...</td>\n",
       "      <td>https://etpgpb.ru/portal/procedures/leningrads...</td>\n",
       "      <td>200</td>\n",
       "    </tr>\n",
       "    <tr>\n",
       "      <th>12</th>\n",
       "      <td>Закупки и тендеры Москвы</td>\n",
       "      <td>На площадке ЭТП ГПБ тендеры Москвы представлен...</td>\n",
       "      <td>https://etpgpb.ru/landing/moskovskaya-oblast/</td>\n",
       "      <td>404</td>\n",
       "    </tr>\n",
       "    <tr>\n",
       "      <th>13</th>\n",
       "      <td>Закупки и тендеры Московской области</td>\n",
       "      <td>На площадке ЭТП ГПБ тендеры Московской области...</td>\n",
       "      <td>https://etpgpb.ru/regions/moskovskaya-oblast/</td>\n",
       "      <td>200</td>\n",
       "    </tr>\n",
       "    <tr>\n",
       "      <th>14</th>\n",
       "      <td>Закупки и тендеры Москвы</td>\n",
       "      <td>На площадке ЭТП ГПБ тендеры Москвы представлен...</td>\n",
       "      <td>https://etpgpb.ru/portal/procedures/moskovskay...</td>\n",
       "      <td>200</td>\n",
       "    </tr>\n",
       "    <tr>\n",
       "      <th>15</th>\n",
       "      <td>Закупки и тендеры Москвы</td>\n",
       "      <td>На площадке ЭТП ГПБ тендеры Москвы представлен...</td>\n",
       "      <td>https://etpgpb.ru/industry/sooruzheniya-i-stro...</td>\n",
       "      <td>200</td>\n",
       "    </tr>\n",
       "  </tbody>\n",
       "</table>\n",
       "</div>"
      ],
      "text/plain": [
       "                               Заголовок  ... Ответ сервера\n",
       "0               Закупки и тендеры Москвы  ...           200\n",
       "1                      Закупки и тендеры  ...           200\n",
       "2               Закупки и тендеры Москвы  ...           200\n",
       "3                      Закупки и тендеры  ...           404\n",
       "4               Закупки и тендеры Москвы  ...           200\n",
       "5               Закупки и тендеры Москвы  ...           200\n",
       "6                      Закупки и тендеры  ...           404\n",
       "7               Закупки и тендеры Москвы  ...           200\n",
       "8                      Закупки и тендеры  ...           200\n",
       "9               Закупки и тендеры Москвы  ...           404\n",
       "10              Закупки и тендеры Москвы  ...           200\n",
       "11                     Закупки и тендеры  ...           200\n",
       "12              Закупки и тендеры Москвы  ...           404\n",
       "13  Закупки и тендеры Московской области  ...           200\n",
       "14              Закупки и тендеры Москвы  ...           200\n",
       "15              Закупки и тендеры Москвы  ...           200\n",
       "\n",
       "[16 rows x 4 columns]"
      ]
     },
     "execution_count": 8,
     "metadata": {},
     "output_type": "execute_result"
    }
   ],
   "source": [
    "#результаты простукивания\n",
    "direct_xlsx"
   ]
  },
  {
   "cell_type": "markdown",
   "id": "3fa161e7-bdb2-4a93-950b-b657eeba8e42",
   "metadata": {
    "execution": {
     "iopub.execute_input": "2024-09-09T10:32:05.648911Z",
     "iopub.status.busy": "2024-09-09T10:32:05.647902Z",
     "iopub.status.idle": "2024-09-09T10:32:05.658930Z",
     "shell.execute_reply": "2024-09-09T10:32:05.658312Z",
     "shell.execute_reply.started": "2024-09-09T10:32:05.648873Z"
    },
    "tags": []
   },
   "source": [
    "### Посмотрим что скажет GPT\n",
    "**подготовим все для работы YaGPT**"
   ]
  },
  {
   "cell_type": "code",
   "execution_count": 9,
   "id": "b08e0848-75ed-4205-bed0-f2912ca1fe7e",
   "metadata": {
    "execution": {
     "iopub.execute_input": "2024-09-09T17:31:35.910334Z",
     "iopub.status.busy": "2024-09-09T17:31:35.909257Z",
     "iopub.status.idle": "2024-09-09T17:31:36.893822Z",
     "shell.execute_reply": "2024-09-09T17:31:36.892922Z",
     "shell.execute_reply.started": "2024-09-09T17:31:35.910289Z"
    },
    "tags": []
   },
   "outputs": [
    {
     "data": {
      "text/plain": [
       "'Привет! Это не тест, а начало диалога. Что хотите обсудить?'"
      ]
     },
     "execution_count": 9,
     "metadata": {},
     "output_type": "execute_result"
    }
   ],
   "source": [
    "#получаем iam_token\n",
    "def get_llm_token(token):\n",
    "    r = requests.post('https://iam.api.cloud.yandex.net/iam/v1/tokens', \n",
    "              headers = {'Content-Type': 'application/x-www-form-urlencoded'}, \n",
    "              data = '{\\\"yandexPassportOauthToken\\\":\\\"'+token+'\\\"}').text\n",
    "    return json.loads(r)[\"iamToken\"]\n",
    "\n",
    "iam_token = get_llm_token(os.environ['model_oauth_token'])\n",
    "\n",
    "#делаем запрос к модели\n",
    "def prompt_yagpt(prompt):\n",
    "\n",
    "    h = {\"Authorization\": \"Bearer \" + str(iam_token), \n",
    "         \"x-folder-id\": os.environ['model_dir_id']}\n",
    "    data= {\n",
    "    \"modelUri\": 'gpt://'+os.environ['model_dir_id']+'/yandexgpt/latest',\n",
    "    \"completionOptions\": {\n",
    "    \"temperature\": 0.1,\n",
    "    \"maxTokens\": \"10000\"\n",
    "    },\n",
    "    \"messages\": [\n",
    "    {\n",
    "      \"role\": \"user\",\n",
    "      \"text\": prompt\n",
    "    }]}\n",
    "    yagpt_request = requests.post('https://llm.api.cloud.yandex.net/foundationModels/v1/completion', headers = h, json = data)\n",
    "    #print(yagpt_request.json())\n",
    "    return yagpt_request.json()['result']['alternatives'][0]['message']['text']\n",
    "\n",
    "prompt_yagpt(\"Привет! Это тест!)\")"
   ]
  },
  {
   "cell_type": "markdown",
   "id": "02ab8294-8c14-4cbb-9656-09869f80846b",
   "metadata": {
    "execution": {
     "iopub.execute_input": "2024-09-09T10:32:05.648911Z",
     "iopub.status.busy": "2024-09-09T10:32:05.647902Z",
     "iopub.status.idle": "2024-09-09T10:32:05.658930Z",
     "shell.execute_reply": "2024-09-09T10:32:05.658312Z",
     "shell.execute_reply.started": "2024-09-09T10:32:05.648873Z"
    },
    "tags": []
   },
   "source": [
    "**сформируем промпт**"
   ]
  },
  {
   "cell_type": "code",
   "execution_count": 10,
   "id": "ca3c8bf5-a7d1-49f5-b012-433ecd61969e",
   "metadata": {
    "execution": {
     "iopub.execute_input": "2024-09-09T17:34:00.437260Z",
     "iopub.status.busy": "2024-09-09T17:34:00.436014Z",
     "iopub.status.idle": "2024-09-09T17:34:06.501111Z",
     "shell.execute_reply": "2024-09-09T17:34:06.500211Z",
     "shell.execute_reply.started": "2024-09-09T17:34:00.437212Z"
    },
    "tags": []
   },
   "outputs": [
    {
     "data": {
      "text/plain": [
       "{'answer': 0,\n",
       " 'comment': 'Не подходит, так как объявление не связано с тендерами в Ленинградской области.'}"
      ]
     },
     "execution_count": 10,
     "metadata": {},
     "output_type": "execute_result"
    }
   ],
   "source": [
    "def is_text_url_relevant(title, description, url):\n",
    "    time.sleep(5)\n",
    "    prompt = '''Ты работаешь с контекстной рекламой. \n",
    "    Посмотри на json с информацией о рекламном объявлении и ответь \"релевантны ли title и description к url?\"\n",
    "    Ответь только в формате json, такого вида'''\n",
    "    prompt += json.dumps({\"answer\":1, \"comment\":\"Релевантно, потому что...\"}, ensure_ascii = False)\n",
    "    prompt += '''где answer бинарный ответ 1 - релевантны, 0 - нерелевантны, comment - краткое понятное объяснение почему\n",
    "    \n",
    "    далее json который нужно посмотреть:'''\n",
    "    prompt += json.dumps({\"title\":title, \"description\":description, \"url\":url}, ensure_ascii = False)\n",
    "    return json.loads(prompt_yagpt(prompt))\n",
    "\n",
    "is_text_url_relevant(\"Закупки и тендеры Москвы\", \"На площадке ЭТП ГПБ тендеры Москвы представлены от таких крупных игроков рынка как ГК Газпром, Уралмашзавод, АО «МРТС»\", \"https://etpgpb.ru/portal/procedures/leningradskaya-oblast/\")"
   ]
  },
  {
   "cell_type": "code",
   "execution_count": 11,
   "id": "cb2dd939-c39e-4379-a0f9-be07cb856006",
   "metadata": {
    "execution": {
     "iopub.execute_input": "2024-09-09T17:34:40.371071Z",
     "iopub.status.busy": "2024-09-09T17:34:40.369846Z",
     "iopub.status.idle": "2024-09-09T17:36:20.207922Z",
     "shell.execute_reply": "2024-09-09T17:36:20.207027Z",
     "shell.execute_reply.started": "2024-09-09T17:34:40.371024Z"
    },
    "tags": []
   },
   "outputs": [],
   "source": [
    "def apply_relevance(row):\n",
    "    result = is_text_url_relevant(row[\"Заголовок\"], row[\"Текст\"], row[\"Ссылка\"])\n",
    "    return pd.Series([result['answer'], result['comment']], index=[\"Релевантность Ответ\", \"Релевантность Комментарий\"])\n",
    "\n",
    "# Применяем функцию ко всем строкам DataFrame и добавляем новые столбцы\n",
    "direct_xlsx[[\"Релевантность Ответ\", \"Релевантность Комментарий\"]] = direct_xlsx.apply(apply_relevance, axis=1)\n"
   ]
  },
  {
   "cell_type": "code",
   "execution_count": 12,
   "id": "3c8cd61e-a9be-4606-9aac-3173deba813c",
   "metadata": {
    "execution": {
     "iopub.execute_input": "2024-09-09T17:36:24.650823Z",
     "iopub.status.busy": "2024-09-09T17:36:24.649473Z",
     "iopub.status.idle": "2024-09-09T17:36:24.686930Z",
     "shell.execute_reply": "2024-09-09T17:36:24.685998Z",
     "shell.execute_reply.started": "2024-09-09T17:36:24.650763Z"
    },
    "tags": []
   },
   "outputs": [
    {
     "data": {
      "text/html": [
       "<div>\n",
       "<style scoped>\n",
       "    .dataframe tbody tr th:only-of-type {\n",
       "        vertical-align: middle;\n",
       "    }\n",
       "\n",
       "    .dataframe tbody tr th {\n",
       "        vertical-align: top;\n",
       "    }\n",
       "\n",
       "    .dataframe thead th {\n",
       "        text-align: right;\n",
       "    }\n",
       "</style>\n",
       "<table border=\"1\" class=\"dataframe\">\n",
       "  <thead>\n",
       "    <tr style=\"text-align: right;\">\n",
       "      <th></th>\n",
       "      <th>Заголовок</th>\n",
       "      <th>Текст</th>\n",
       "      <th>Ссылка</th>\n",
       "      <th>Ответ сервера</th>\n",
       "      <th>Релевантность Ответ</th>\n",
       "      <th>Релевантность Комментарий</th>\n",
       "    </tr>\n",
       "  </thead>\n",
       "  <tbody>\n",
       "    <tr>\n",
       "      <th>0</th>\n",
       "      <td>Закупки и тендеры Москвы</td>\n",
       "      <td>На площадке ЭТП ГПБ тендеры Москвы представлен...</td>\n",
       "      <td>https://etpgpb.ru/</td>\n",
       "      <td>200</td>\n",
       "      <td>1</td>\n",
       "      <td>Релевантно, потому что в тексте объявления ука...</td>\n",
       "    </tr>\n",
       "    <tr>\n",
       "      <th>1</th>\n",
       "      <td>Закупки и тендеры</td>\n",
       "      <td>На площадке ЭТП ГПБ тендеры представлены от та...</td>\n",
       "      <td>https://etpgpb.ru/</td>\n",
       "      <td>200</td>\n",
       "      <td>1</td>\n",
       "      <td>Релевантно, потому что в тексте объявления ука...</td>\n",
       "    </tr>\n",
       "    <tr>\n",
       "      <th>2</th>\n",
       "      <td>Закупки и тендеры Москвы</td>\n",
       "      <td>На площадке ЭТП ГПБ тендеры Москвы представлен...</td>\n",
       "      <td>https://etpgpb.ru/landing/</td>\n",
       "      <td>200</td>\n",
       "      <td>1</td>\n",
       "      <td>Релевантно, потому что объявление соответствуе...</td>\n",
       "    </tr>\n",
       "    <tr>\n",
       "      <th>3</th>\n",
       "      <td>Закупки и тендеры</td>\n",
       "      <td>На площадке ЭТП ГПБ тендеры представлены от та...</td>\n",
       "      <td>https://etpgpb.ru/landing/moskva/</td>\n",
       "      <td>404</td>\n",
       "      <td>1</td>\n",
       "      <td>Релевантно, потому что объявление соответствуе...</td>\n",
       "    </tr>\n",
       "    <tr>\n",
       "      <th>4</th>\n",
       "      <td>Закупки и тендеры Москвы</td>\n",
       "      <td>На площадке ЭТП ГПБ тендеры Москвы представлен...</td>\n",
       "      <td>https://etpgpb.ru/regions/moskva/</td>\n",
       "      <td>200</td>\n",
       "      <td>1</td>\n",
       "      <td>Релевантно, потому что в тексте объявления ука...</td>\n",
       "    </tr>\n",
       "    <tr>\n",
       "      <th>5</th>\n",
       "      <td>Закупки и тендеры Москвы</td>\n",
       "      <td>На площадке ЭТП ГПБ тендеры Москвы представлен...</td>\n",
       "      <td>https://etpgpb.ru/portal/procedures/moskva/</td>\n",
       "      <td>200</td>\n",
       "      <td>1</td>\n",
       "      <td>Релевантно, потому что в тексте объявления ука...</td>\n",
       "    </tr>\n",
       "    <tr>\n",
       "      <th>6</th>\n",
       "      <td>Закупки и тендеры</td>\n",
       "      <td>На площадке ЭТП ГПБ тендеры представлены от та...</td>\n",
       "      <td>https://etpgpb.ru/landing/sankt-peterburg/</td>\n",
       "      <td>404</td>\n",
       "      <td>1</td>\n",
       "      <td>Релевантно, потому что объявление соответствуе...</td>\n",
       "    </tr>\n",
       "    <tr>\n",
       "      <th>7</th>\n",
       "      <td>Закупки и тендеры Москвы</td>\n",
       "      <td>На площадке ЭТП ГПБ тендеры Москвы представлен...</td>\n",
       "      <td>https://etpgpb.ru/regions/sankt-peterburg/</td>\n",
       "      <td>200</td>\n",
       "      <td>0</td>\n",
       "      <td>Не подходит, так как в тексте объявления речь ...</td>\n",
       "    </tr>\n",
       "    <tr>\n",
       "      <th>8</th>\n",
       "      <td>Закупки и тендеры</td>\n",
       "      <td>На площадке ЭТП ГПБ тендеры представлены от та...</td>\n",
       "      <td>https://etpgpb.ru/portal/procedures/sankt-pete...</td>\n",
       "      <td>200</td>\n",
       "      <td>1</td>\n",
       "      <td>Релевантно, потому что в тексте объявления ука...</td>\n",
       "    </tr>\n",
       "    <tr>\n",
       "      <th>9</th>\n",
       "      <td>Закупки и тендеры Москвы</td>\n",
       "      <td>На площадке ЭТП ГПБ тендеры Москвы представлен...</td>\n",
       "      <td>https://etpgpb.ru/landing/leningradskaya-oblast/</td>\n",
       "      <td>404</td>\n",
       "      <td>0</td>\n",
       "      <td>Не подходит, так как объявление не связано с Л...</td>\n",
       "    </tr>\n",
       "    <tr>\n",
       "      <th>10</th>\n",
       "      <td>Закупки и тендеры Москвы</td>\n",
       "      <td>На площадке ЭТП ГПБ тендеры Москвы представлен...</td>\n",
       "      <td>https://etpgpb.ru/regions/leningradskaya-oblast/</td>\n",
       "      <td>200</td>\n",
       "      <td>0</td>\n",
       "      <td>Не подходит, так как объявление не связано с Л...</td>\n",
       "    </tr>\n",
       "    <tr>\n",
       "      <th>11</th>\n",
       "      <td>Закупки и тендеры</td>\n",
       "      <td>На площадке ЭТП ГПБ тендеры представлены от та...</td>\n",
       "      <td>https://etpgpb.ru/portal/procedures/leningrads...</td>\n",
       "      <td>200</td>\n",
       "      <td>1</td>\n",
       "      <td>Релевантно, потому что объявление соответствуе...</td>\n",
       "    </tr>\n",
       "    <tr>\n",
       "      <th>12</th>\n",
       "      <td>Закупки и тендеры Москвы</td>\n",
       "      <td>На площадке ЭТП ГПБ тендеры Москвы представлен...</td>\n",
       "      <td>https://etpgpb.ru/landing/moskovskaya-oblast/</td>\n",
       "      <td>404</td>\n",
       "      <td>1</td>\n",
       "      <td>Релевантно, потому что в тексте объявления ука...</td>\n",
       "    </tr>\n",
       "    <tr>\n",
       "      <th>13</th>\n",
       "      <td>Закупки и тендеры Московской области</td>\n",
       "      <td>На площадке ЭТП ГПБ тендеры Московской области...</td>\n",
       "      <td>https://etpgpb.ru/regions/moskovskaya-oblast/</td>\n",
       "      <td>200</td>\n",
       "      <td>1</td>\n",
       "      <td>Релевантно, потому что заголовок и описание об...</td>\n",
       "    </tr>\n",
       "    <tr>\n",
       "      <th>14</th>\n",
       "      <td>Закупки и тендеры Москвы</td>\n",
       "      <td>На площадке ЭТП ГПБ тендеры Москвы представлен...</td>\n",
       "      <td>https://etpgpb.ru/portal/procedures/moskovskay...</td>\n",
       "      <td>200</td>\n",
       "      <td>1</td>\n",
       "      <td>Релевантно, потому что объявление соответствуе...</td>\n",
       "    </tr>\n",
       "    <tr>\n",
       "      <th>15</th>\n",
       "      <td>Закупки и тендеры Москвы</td>\n",
       "      <td>На площадке ЭТП ГПБ тендеры Москвы представлен...</td>\n",
       "      <td>https://etpgpb.ru/industry/sooruzheniya-i-stro...</td>\n",
       "      <td>200</td>\n",
       "      <td>1</td>\n",
       "      <td>Релевантно, потому что в тексте объявления ука...</td>\n",
       "    </tr>\n",
       "  </tbody>\n",
       "</table>\n",
       "</div>"
      ],
      "text/plain": [
       "                               Заголовок  ...                          Релевантность Комментарий\n",
       "0               Закупки и тендеры Москвы  ...  Релевантно, потому что в тексте объявления ука...\n",
       "1                      Закупки и тендеры  ...  Релевантно, потому что в тексте объявления ука...\n",
       "2               Закупки и тендеры Москвы  ...  Релевантно, потому что объявление соответствуе...\n",
       "3                      Закупки и тендеры  ...  Релевантно, потому что объявление соответствуе...\n",
       "4               Закупки и тендеры Москвы  ...  Релевантно, потому что в тексте объявления ука...\n",
       "5               Закупки и тендеры Москвы  ...  Релевантно, потому что в тексте объявления ука...\n",
       "6                      Закупки и тендеры  ...  Релевантно, потому что объявление соответствуе...\n",
       "7               Закупки и тендеры Москвы  ...  Не подходит, так как в тексте объявления речь ...\n",
       "8                      Закупки и тендеры  ...  Релевантно, потому что в тексте объявления ука...\n",
       "9               Закупки и тендеры Москвы  ...  Не подходит, так как объявление не связано с Л...\n",
       "10              Закупки и тендеры Москвы  ...  Не подходит, так как объявление не связано с Л...\n",
       "11                     Закупки и тендеры  ...  Релевантно, потому что объявление соответствуе...\n",
       "12              Закупки и тендеры Москвы  ...  Релевантно, потому что в тексте объявления ука...\n",
       "13  Закупки и тендеры Московской области  ...  Релевантно, потому что заголовок и описание об...\n",
       "14              Закупки и тендеры Москвы  ...  Релевантно, потому что объявление соответствуе...\n",
       "15              Закупки и тендеры Москвы  ...  Релевантно, потому что в тексте объявления ука...\n",
       "\n",
       "[16 rows x 6 columns]"
      ]
     },
     "execution_count": 12,
     "metadata": {},
     "output_type": "execute_result"
    }
   ],
   "source": [
    "#результаты проверки релевантности от YaGPT\n",
    "direct_xlsx"
   ]
  },
  {
   "cell_type": "markdown",
   "id": "6ab947f4-394f-49db-b0c4-40104eea4a4f",
   "metadata": {
    "execution": {
     "iopub.execute_input": "2024-09-09T10:32:05.648911Z",
     "iopub.status.busy": "2024-09-09T10:32:05.647902Z",
     "iopub.status.idle": "2024-09-09T10:32:05.658930Z",
     "shell.execute_reply": "2024-09-09T10:32:05.658312Z",
     "shell.execute_reply.started": "2024-09-09T10:32:05.648873Z"
    },
    "tags": []
   },
   "source": [
    "### Посмотрим что скажут исполнители Яндекс.Заданий\n",
    "**подключимся к заданиям**"
   ]
  },
  {
   "cell_type": "code",
   "execution_count": 22,
   "id": "38278b65-0042-450c-97cb-7476e097c34e",
   "metadata": {
    "execution": {
     "iopub.execute_input": "2024-09-09T18:07:42.502884Z",
     "iopub.status.busy": "2024-09-09T18:07:42.501849Z",
     "iopub.status.idle": "2024-09-09T18:07:42.642790Z",
     "shell.execute_reply": "2024-09-09T18:07:42.641948Z",
     "shell.execute_reply.started": "2024-09-09T18:07:42.502840Z"
    },
    "tags": []
   },
   "outputs": [
    {
     "name": "stdout",
     "output_type": "stream",
     "text": [
      "Requester(_unexpected={}, id='c5e281f2771b0ed61c7c53dede710068', balance=Decimal('2908.5619'), public_name={'EN': 'ШАД-99'}, company=Requester.Company(_unexpected={}, id='151', superintendent_id='64ef54a8b2a44461537f06b121533c42'))\n"
     ]
    }
   ],
   "source": [
    "toloka_client = toloka.TolokaClient(os.environ['tasks_token'], url = 'https://tasks.yandex.ru')\n",
    "print(toloka_client.get_requester())"
   ]
  },
  {
   "cell_type": "code",
   "execution_count": 16,
   "id": "56c6d3b6-5510-45c5-8072-2023d7f31e4e",
   "metadata": {
    "execution": {
     "iopub.execute_input": "2024-09-09T17:57:19.721056Z",
     "iopub.status.busy": "2024-09-09T17:57:19.719922Z",
     "iopub.status.idle": "2024-09-09T17:57:20.593630Z",
     "shell.execute_reply": "2024-09-09T17:57:20.592731Z",
     "shell.execute_reply.started": "2024-09-09T17:57:19.721003Z"
    },
    "tags": []
   },
   "outputs": [
    {
     "data": {
      "text/plain": [
       "'3204602'"
      ]
     },
     "execution_count": 16,
     "metadata": {},
     "output_type": "execute_result"
    }
   ],
   "source": [
    "new_pool = toloka_client.clone_pool(\"3203665\")\n",
    "new_pool.id"
   ]
  },
  {
   "cell_type": "code",
   "execution_count": 17,
   "id": "d4676b02-8763-459d-a568-bd9077f3f770",
   "metadata": {
    "execution": {
     "iopub.execute_input": "2024-09-09T17:57:33.211924Z",
     "iopub.status.busy": "2024-09-09T17:57:33.210771Z",
     "iopub.status.idle": "2024-09-09T17:57:33.224624Z",
     "shell.execute_reply": "2024-09-09T17:57:33.223795Z",
     "shell.execute_reply.started": "2024-09-09T17:57:33.211878Z"
    },
    "tags": []
   },
   "outputs": [],
   "source": [
    "tasks = [\n",
    "    toloka.Task(\n",
    "        input_values={\n",
    "            'title': row['Заголовок'],\n",
    "            'description': row['Текст'],\n",
    "            'url': row['Ссылка']\n",
    "        },\n",
    "        pool_id=new_pool.id\n",
    "    )\n",
    "    for index, row in direct_xlsx.iterrows()\n",
    "]"
   ]
  },
  {
   "cell_type": "code",
   "execution_count": 18,
   "id": "c0a94263-b2da-4f91-a62a-d26a07ca23ef",
   "metadata": {
    "execution": {
     "iopub.execute_input": "2024-09-09T17:57:35.816795Z",
     "iopub.status.busy": "2024-09-09T17:57:35.815695Z",
     "iopub.status.idle": "2024-09-09T17:57:40.085927Z",
     "shell.execute_reply": "2024-09-09T17:57:40.084942Z",
     "shell.execute_reply.started": "2024-09-09T17:57:35.816751Z"
    },
    "tags": []
   },
   "outputs": [
    {
     "name": "stdout",
     "output_type": "stream",
     "text": [
      "Заданий загружено 16\n"
     ]
    }
   ],
   "source": [
    "upload_tasks = toloka_client.create_tasks(tasks, allow_defaults=True)\n",
    "print(\"Заданий загружено \" + str(len(upload_tasks.items)))"
   ]
  },
  {
   "cell_type": "code",
   "execution_count": 19,
   "id": "b15630a2-d191-4a40-87c8-3a47aab9ab76",
   "metadata": {
    "execution": {
     "iopub.execute_input": "2024-09-09T17:58:15.403670Z",
     "iopub.status.busy": "2024-09-09T17:58:15.402791Z",
     "iopub.status.idle": "2024-09-09T18:04:42.781035Z",
     "shell.execute_reply": "2024-09-09T18:04:42.779523Z",
     "shell.execute_reply.started": "2024-09-09T17:58:15.403628Z"
    },
    "tags": []
   },
   "outputs": [
    {
     "name": "stdout",
     "output_type": "stream",
     "text": [
      "   17:58:17\tПул 3204602 - 0%\n",
      "   17:59:19\tПул 3204602 - 56%\n",
      "   18:00:20\tПул 3204602 - 88%\n",
      "   18:01:22\tПул 3204602 - 94%\n",
      "   18:02:23\tПул 3204602 - 94%\n",
      "   18:03:24\tПул 3204602 - 94%\n",
      "   18:04:25\tПул 3204602 - 94%\n"
     ]
    },
    {
     "ename": "KeyboardInterrupt",
     "evalue": "",
     "output_type": "error",
     "traceback": [
      "\u001b[0;31m---------------------------------------------------------------------------\u001b[0m",
      "\u001b[0;31mKeyboardInterrupt\u001b[0m                         Traceback (most recent call last)",
      "\u001b[0;32m/tmp/ipykernel_15353/1478886873.py\u001b[0m in \u001b[0;36m<cell line: 19>\u001b[0;34m()\u001b[0m\n\u001b[1;32m     17\u001b[0m     \u001b[0mprint\u001b[0m\u001b[0;34m(\u001b[0m\u001b[0;34m'Pool was closed.'\u001b[0m\u001b[0;34m)\u001b[0m\u001b[0;34m\u001b[0m\u001b[0;34m\u001b[0m\u001b[0m\n\u001b[1;32m     18\u001b[0m \u001b[0;34m\u001b[0m\u001b[0m\n\u001b[0;32m---> 19\u001b[0;31m \u001b[0mwait_pool_for_close\u001b[0m\u001b[0;34m(\u001b[0m\u001b[0mpool_id\u001b[0m\u001b[0;34m)\u001b[0m\u001b[0;34m\u001b[0m\u001b[0;34m\u001b[0m\u001b[0m\n\u001b[0m",
      "\u001b[0;32m/tmp/ipykernel_15353/1478886873.py\u001b[0m in \u001b[0;36mwait_pool_for_close\u001b[0;34m(pool_id, minutes_to_wait)\u001b[0m\n\u001b[1;32m     13\u001b[0m             \u001b[0;34mf'Пул {pool.id} - {percentage}%'\u001b[0m\u001b[0;34m\u001b[0m\u001b[0;34m\u001b[0m\u001b[0m\n\u001b[1;32m     14\u001b[0m         )\n\u001b[0;32m---> 15\u001b[0;31m         \u001b[0mtime\u001b[0m\u001b[0;34m.\u001b[0m\u001b[0msleep\u001b[0m\u001b[0;34m(\u001b[0m\u001b[0msleep_time\u001b[0m\u001b[0;34m)\u001b[0m\u001b[0;34m\u001b[0m\u001b[0;34m\u001b[0m\u001b[0m\n\u001b[0m\u001b[1;32m     16\u001b[0m         \u001b[0mpool\u001b[0m \u001b[0;34m=\u001b[0m \u001b[0mtoloka_client\u001b[0m\u001b[0;34m.\u001b[0m\u001b[0mget_pool\u001b[0m\u001b[0;34m(\u001b[0m\u001b[0mpool\u001b[0m\u001b[0;34m.\u001b[0m\u001b[0mid\u001b[0m\u001b[0;34m)\u001b[0m\u001b[0;34m\u001b[0m\u001b[0;34m\u001b[0m\u001b[0m\n\u001b[1;32m     17\u001b[0m     \u001b[0mprint\u001b[0m\u001b[0;34m(\u001b[0m\u001b[0;34m'Pool was closed.'\u001b[0m\u001b[0;34m)\u001b[0m\u001b[0;34m\u001b[0m\u001b[0;34m\u001b[0m\u001b[0m\n",
      "\u001b[0;31mKeyboardInterrupt\u001b[0m: "
     ]
    }
   ],
   "source": [
    "new_pool = toloka_client.open_pool(new_pool.id)\n",
    "pool_id = new_pool.id\n",
    "\n",
    "def wait_pool_for_close(pool_id, minutes_to_wait=1):\n",
    "    sleep_time = 60 * minutes_to_wait\n",
    "    pool = toloka_client.get_pool(pool_id)\n",
    "    while not pool.is_closed():\n",
    "        op = toloka_client.get_analytics([toloka.analytics_request.CompletionPercentagePoolAnalytics(subject_id=pool.id)])\n",
    "        op = toloka_client.wait_operation(op)\n",
    "        percentage = op.details['value'][0]['result']['value']\n",
    "        print(\n",
    "            f'   {datetime.datetime.now().strftime(\"%H:%M:%S\")}\\t'\n",
    "            f'Пул {pool.id} - {percentage}%'\n",
    "        )\n",
    "        time.sleep(sleep_time)\n",
    "        pool = toloka_client.get_pool(pool.id)\n",
    "    print('Pool was closed.')\n",
    "\n",
    "wait_pool_for_close(pool_id)"
   ]
  },
  {
   "cell_type": "code",
   "execution_count": 20,
   "id": "39d8599c-783d-4c80-b6d3-8413ecee57a9",
   "metadata": {
    "execution": {
     "iopub.execute_input": "2024-09-09T18:04:47.380192Z",
     "iopub.status.busy": "2024-09-09T18:04:47.378999Z",
     "iopub.status.idle": "2024-09-09T18:04:47.726952Z",
     "shell.execute_reply": "2024-09-09T18:04:47.726035Z",
     "shell.execute_reply.started": "2024-09-09T18:04:47.380144Z"
    },
    "tags": []
   },
   "outputs": [
    {
     "name": "stderr",
     "output_type": "stream",
     "text": [
      "Experimental method\n"
     ]
    }
   ],
   "source": [
    "answers_df = toloka_client.get_assignments_df(pool_id)"
   ]
  },
  {
   "cell_type": "code",
   "execution_count": 21,
   "id": "05325ce0-931d-476f-85e4-dc44cb8f8ab4",
   "metadata": {
    "execution": {
     "iopub.execute_input": "2024-09-09T18:04:52.856252Z",
     "iopub.status.busy": "2024-09-09T18:04:52.855110Z",
     "iopub.status.idle": "2024-09-09T18:04:52.904932Z",
     "shell.execute_reply": "2024-09-09T18:04:52.903985Z",
     "shell.execute_reply.started": "2024-09-09T18:04:52.856204Z"
    },
    "tags": []
   },
   "outputs": [
    {
     "data": {
      "text/html": [
       "<div>\n",
       "<style scoped>\n",
       "    .dataframe tbody tr th:only-of-type {\n",
       "        vertical-align: middle;\n",
       "    }\n",
       "\n",
       "    .dataframe tbody tr th {\n",
       "        vertical-align: top;\n",
       "    }\n",
       "\n",
       "    .dataframe thead th {\n",
       "        text-align: right;\n",
       "    }\n",
       "</style>\n",
       "<table border=\"1\" class=\"dataframe\">\n",
       "  <thead>\n",
       "    <tr style=\"text-align: right;\">\n",
       "      <th></th>\n",
       "      <th>INPUT:url</th>\n",
       "      <th>INPUT:title</th>\n",
       "      <th>INPUT:description</th>\n",
       "      <th>OUTPUT:result</th>\n",
       "      <th>GOLDEN:result</th>\n",
       "      <th>HINT:text</th>\n",
       "      <th>HINT:default_language</th>\n",
       "      <th>ASSIGNMENT:link</th>\n",
       "      <th>ASSIGNMENT:assignment_id</th>\n",
       "      <th>ASSIGNMENT:worker_id</th>\n",
       "      <th>ASSIGNMENT:status</th>\n",
       "      <th>ASSIGNMENT:started</th>\n",
       "    </tr>\n",
       "  </thead>\n",
       "  <tbody>\n",
       "    <tr>\n",
       "      <th>41</th>\n",
       "      <td>https://etpgpb.ru/portal/procedures/moskva/</td>\n",
       "      <td>Закупки и тендеры Москвы</td>\n",
       "      <td>На площадке ЭТП ГПБ тендеры Москвы представлен...</td>\n",
       "      <td>ok</td>\n",
       "      <td>NaN</td>\n",
       "      <td>NaN</td>\n",
       "      <td>NaN</td>\n",
       "      <td>https://tasks.yandex.ru/task/3204602/000030e5f...</td>\n",
       "      <td>000030e5fa--66df375ce1bdd4210f0ce579</td>\n",
       "      <td>38b0e2fad2196d54cb96f57cee302643</td>\n",
       "      <td>APPROVED</td>\n",
       "      <td>2024-09-09T17:58:52.494</td>\n",
       "    </tr>\n",
       "    <tr>\n",
       "      <th>28</th>\n",
       "      <td>https://etpgpb.ru/industry/sooruzheniya-i-stro...</td>\n",
       "      <td>Закупки и тендеры Москвы</td>\n",
       "      <td>На площадке ЭТП ГПБ тендеры Москвы представлен...</td>\n",
       "      <td>bad</td>\n",
       "      <td>NaN</td>\n",
       "      <td>NaN</td>\n",
       "      <td>NaN</td>\n",
       "      <td>https://tasks.yandex.ru/task/3204602/000030e5f...</td>\n",
       "      <td>000030e5fa--66df374d71ef98386efd3ff4</td>\n",
       "      <td>5e26fd58a8193b0a86f88404cf57ba5e</td>\n",
       "      <td>APPROVED</td>\n",
       "      <td>2024-09-09T17:58:37.218</td>\n",
       "    </tr>\n",
       "    <tr>\n",
       "      <th>47</th>\n",
       "      <td>https://etpgpb.ru/regions/moskovskaya-oblast/</td>\n",
       "      <td>Закупки и тендеры Московской области</td>\n",
       "      <td>На площадке ЭТП ГПБ тендеры Московской области...</td>\n",
       "      <td>ok</td>\n",
       "      <td>NaN</td>\n",
       "      <td>NaN</td>\n",
       "      <td>NaN</td>\n",
       "      <td>https://tasks.yandex.ru/task/3204602/000030e5f...</td>\n",
       "      <td>000030e5fa--66df3762ca13f361a4d64992</td>\n",
       "      <td>9f13a5b4fc9252d54094b1579ee3bf43</td>\n",
       "      <td>APPROVED</td>\n",
       "      <td>2024-09-09T17:58:58.685</td>\n",
       "    </tr>\n",
       "    <tr>\n",
       "      <th>50</th>\n",
       "      <td>https://etpgpb.ru/regions/moskva/</td>\n",
       "      <td>Закупки и тендеры Москвы</td>\n",
       "      <td>На площадке ЭТП ГПБ тендеры Москвы представлен...</td>\n",
       "      <td>ok</td>\n",
       "      <td>NaN</td>\n",
       "      <td>NaN</td>\n",
       "      <td>NaN</td>\n",
       "      <td>https://tasks.yandex.ru/task/3204602/000030e5f...</td>\n",
       "      <td>000030e5fa--66df37b2ca13f361a4d650ba</td>\n",
       "      <td>c3ba229b1d3d5963cf98a5a80ecdca48</td>\n",
       "      <td>APPROVED</td>\n",
       "      <td>2024-09-09T18:00:18.558</td>\n",
       "    </tr>\n",
       "    <tr>\n",
       "      <th>9</th>\n",
       "      <td>https://etpgpb.ru/industry/sooruzheniya-i-stro...</td>\n",
       "      <td>Закупки и тендеры Москвы</td>\n",
       "      <td>На площадке ЭТП ГПБ тендеры Москвы представлен...</td>\n",
       "      <td>ok</td>\n",
       "      <td>NaN</td>\n",
       "      <td>NaN</td>\n",
       "      <td>NaN</td>\n",
       "      <td>https://tasks.yandex.ru/task/3204602/000030e5f...</td>\n",
       "      <td>000030e5fa--66df3747336a0a23c400085a</td>\n",
       "      <td>f4be96835765b440a5902769be4a425e</td>\n",
       "      <td>APPROVED</td>\n",
       "      <td>2024-09-09T17:58:31.219</td>\n",
       "    </tr>\n",
       "    <tr>\n",
       "      <th>45</th>\n",
       "      <td>https://etpgpb.ru/landing/leningradskaya-oblast/</td>\n",
       "      <td>Закупки и тендеры Москвы</td>\n",
       "      <td>На площадке ЭТП ГПБ тендеры Москвы представлен...</td>\n",
       "      <td>bad</td>\n",
       "      <td>NaN</td>\n",
       "      <td>NaN</td>\n",
       "      <td>NaN</td>\n",
       "      <td>https://tasks.yandex.ru/task/3204602/000030e5f...</td>\n",
       "      <td>000030e5fa--66df3762ca13f361a4d64992</td>\n",
       "      <td>9f13a5b4fc9252d54094b1579ee3bf43</td>\n",
       "      <td>APPROVED</td>\n",
       "      <td>2024-09-09T17:58:58.685</td>\n",
       "    </tr>\n",
       "    <tr>\n",
       "      <th>24</th>\n",
       "      <td>https://etpgpb.ru/</td>\n",
       "      <td>Закупки и тендеры Москвы</td>\n",
       "      <td>На площадке ЭТП ГПБ тендеры Москвы представлен...</td>\n",
       "      <td>ok</td>\n",
       "      <td>NaN</td>\n",
       "      <td>NaN</td>\n",
       "      <td>NaN</td>\n",
       "      <td>https://tasks.yandex.ru/task/3204602/000030e5f...</td>\n",
       "      <td>000030e5fa--66df374b38e58d70b5016775</td>\n",
       "      <td>4e2adfb57e6c6663fd635a16102b0535</td>\n",
       "      <td>APPROVED</td>\n",
       "      <td>2024-09-09T17:58:35.628</td>\n",
       "    </tr>\n",
       "    <tr>\n",
       "      <th>46</th>\n",
       "      <td>https://etpgpb.ru/</td>\n",
       "      <td>Закупки и тендеры</td>\n",
       "      <td>На площадке ЭТП ГПБ тендеры представлены от та...</td>\n",
       "      <td>ok</td>\n",
       "      <td>NaN</td>\n",
       "      <td>NaN</td>\n",
       "      <td>NaN</td>\n",
       "      <td>https://tasks.yandex.ru/task/3204602/000030e5f...</td>\n",
       "      <td>000030e5fa--66df3762ca13f361a4d64992</td>\n",
       "      <td>9f13a5b4fc9252d54094b1579ee3bf43</td>\n",
       "      <td>APPROVED</td>\n",
       "      <td>2024-09-09T17:58:58.685</td>\n",
       "    </tr>\n",
       "    <tr>\n",
       "      <th>29</th>\n",
       "      <td>https://etpgpb.ru/</td>\n",
       "      <td>Закупки и тендеры Москвы</td>\n",
       "      <td>На площадке ЭТП ГПБ тендеры Москвы представлен...</td>\n",
       "      <td>bad</td>\n",
       "      <td>NaN</td>\n",
       "      <td>NaN</td>\n",
       "      <td>NaN</td>\n",
       "      <td>https://tasks.yandex.ru/task/3204602/000030e5f...</td>\n",
       "      <td>000030e5fa--66df374d71ef98386efd3ff4</td>\n",
       "      <td>5e26fd58a8193b0a86f88404cf57ba5e</td>\n",
       "      <td>APPROVED</td>\n",
       "      <td>2024-09-09T17:58:37.218</td>\n",
       "    </tr>\n",
       "    <tr>\n",
       "      <th>2</th>\n",
       "      <td>https://etpgpb.ru/landing/moskovskaya-oblast/</td>\n",
       "      <td>Закупки и тендеры Москвы</td>\n",
       "      <td>На площадке ЭТП ГПБ тендеры Москвы представлен...</td>\n",
       "      <td>bad</td>\n",
       "      <td>NaN</td>\n",
       "      <td>NaN</td>\n",
       "      <td>NaN</td>\n",
       "      <td>https://tasks.yandex.ru/task/3204602/000030e5f...</td>\n",
       "      <td>000030e5fa--66df37436afae908824e6c56</td>\n",
       "      <td>0b6220c79eb6b1fb984a992637c464d3</td>\n",
       "      <td>APPROVED</td>\n",
       "      <td>2024-09-09T17:58:27.239</td>\n",
       "    </tr>\n",
       "  </tbody>\n",
       "</table>\n",
       "</div>"
      ],
      "text/plain": [
       "                                            INPUT:url  ...       ASSIGNMENT:started\n",
       "41        https://etpgpb.ru/portal/procedures/moskva/  ...  2024-09-09T17:58:52.494\n",
       "28  https://etpgpb.ru/industry/sooruzheniya-i-stro...  ...  2024-09-09T17:58:37.218\n",
       "47      https://etpgpb.ru/regions/moskovskaya-oblast/  ...  2024-09-09T17:58:58.685\n",
       "50                  https://etpgpb.ru/regions/moskva/  ...  2024-09-09T18:00:18.558\n",
       "9   https://etpgpb.ru/industry/sooruzheniya-i-stro...  ...  2024-09-09T17:58:31.219\n",
       "45   https://etpgpb.ru/landing/leningradskaya-oblast/  ...  2024-09-09T17:58:58.685\n",
       "24                                 https://etpgpb.ru/  ...  2024-09-09T17:58:35.628\n",
       "46                                 https://etpgpb.ru/  ...  2024-09-09T17:58:58.685\n",
       "29                                 https://etpgpb.ru/  ...  2024-09-09T17:58:37.218\n",
       "2       https://etpgpb.ru/landing/moskovskaya-oblast/  ...  2024-09-09T17:58:27.239\n",
       "\n",
       "[10 rows x 12 columns]"
      ]
     },
     "execution_count": 21,
     "metadata": {},
     "output_type": "execute_result"
    }
   ],
   "source": [
    "answers_df.sample(10)"
   ]
  },
  {
   "cell_type": "code",
   "execution_count": null,
   "id": "96c1a039-a362-42d8-ab66-2d9c33348eef",
   "metadata": {
    "tags": []
   },
   "outputs": [],
   "source": [
    "answer_mv_df = pd.DataFrame()\n",
    "answer_mv_df['task'] = answers_df[\"INPUT:url\"] + \";\" + answers_df[\"INPUT:title\"] + \";\" +answers_df[\"INPUT:description\"]"
   ]
  },
  {
   "cell_type": "code",
   "execution_count": null,
   "id": "452fafcb-cb16-45c1-8f74-bc459f3185fe",
   "metadata": {
    "tags": []
   },
   "outputs": [],
   "source": [
    "answer_mv_df"
   ]
  },
  {
   "cell_type": "code",
   "execution_count": null,
   "id": "bfc7582c-c11b-4a83-ace5-161aa16a0cbb",
   "metadata": {},
   "outputs": [],
   "source": []
  }
 ],
 "metadata": {
  "kernelspec": {
   "display_name": "DataSphere Kernel",
   "language": "python",
   "name": "python3"
  },
  "language_info": {
   "codemirror_mode": {
    "name": "ipython",
    "version": 3
   },
   "file_extension": ".py",
   "mimetype": "text/x-python",
   "name": "python",
   "nbconvert_exporter": "python",
   "pygments_lexer": "ipython3",
   "version": "3.10.12"
  }
 },
 "nbformat": 4,
 "nbformat_minor": 5
}
