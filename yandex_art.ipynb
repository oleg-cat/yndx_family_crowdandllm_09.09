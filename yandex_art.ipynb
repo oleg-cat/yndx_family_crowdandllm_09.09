{
 "cells": [
  {
   "cell_type": "code",
   "execution_count": 1,
   "id": "5b84f61b-e27f-4e0b-9d4c-a7398b334358",
   "metadata": {
    "execution": {
     "iopub.execute_input": "2024-09-09T18:11:42.118825Z",
     "iopub.status.busy": "2024-09-09T18:11:42.117375Z",
     "iopub.status.idle": "2024-09-09T18:11:42.476698Z",
     "shell.execute_reply": "2024-09-09T18:11:42.475599Z",
     "shell.execute_reply.started": "2024-09-09T18:11:42.118769Z"
    },
    "tags": []
   },
   "outputs": [],
   "source": [
    "import os\n",
    "import json\n",
    "import time\n",
    "from tqdm.notebook import tqdm\n",
    "import requests\n",
    "import base64\n",
    "from io import BytesIO\n",
    "from PIL import Image\n"
   ]
  },
  {
   "cell_type": "code",
   "execution_count": 2,
   "id": "70af777f-4a3c-4833-8eda-162a7f0eb411",
   "metadata": {
    "execution": {
     "iopub.execute_input": "2024-09-09T18:11:49.467133Z",
     "iopub.status.busy": "2024-09-09T18:11:49.465646Z",
     "iopub.status.idle": "2024-09-09T18:11:49.633804Z",
     "shell.execute_reply": "2024-09-09T18:11:49.633006Z",
     "shell.execute_reply.started": "2024-09-09T18:11:49.467084Z"
    },
    "tags": []
   },
   "outputs": [],
   "source": [
    "#получаем iam_token\n",
    "def get_llm_token(token):\n",
    "    r = requests.post('https://iam.api.cloud.yandex.net/iam/v1/tokens', \n",
    "              headers = {'Content-Type': 'application/x-www-form-urlencoded'}, \n",
    "              data = '{\\\"yandexPassportOauthToken\\\":\\\"'+token+'\\\"}').text\n",
    "    return json.loads(r)[\"iamToken\"]\n",
    "\n",
    "iam_token = get_llm_token(os.environ['model_oauth_token'])"
   ]
  },
  {
   "cell_type": "code",
   "execution_count": 3,
   "id": "93ab984e-2c82-445a-a0cf-683a8b0eedc8",
   "metadata": {
    "execution": {
     "iopub.execute_input": "2024-09-09T18:11:59.169778Z",
     "iopub.status.busy": "2024-09-09T18:11:59.168348Z",
     "iopub.status.idle": "2024-09-09T18:11:59.181083Z",
     "shell.execute_reply": "2024-09-09T18:11:59.180168Z",
     "shell.execute_reply.started": "2024-09-09T18:11:59.169730Z"
    },
    "tags": []
   },
   "outputs": [],
   "source": [
    "#список городов\n",
    "cities = [\"Краснодар\", \n",
    "          \"Ставрополь\", \n",
    "          \"Элиста\", \n",
    "          \"Волгоград\"]"
   ]
  },
  {
   "cell_type": "code",
   "execution_count": 4,
   "id": "53e1d4c9-3825-4134-9b28-46f6b32c9b54",
   "metadata": {
    "execution": {
     "iopub.execute_input": "2024-09-09T18:12:16.076160Z",
     "iopub.status.busy": "2024-09-09T18:12:16.075063Z",
     "iopub.status.idle": "2024-09-09T18:15:17.241885Z",
     "shell.execute_reply": "2024-09-09T18:15:17.240715Z",
     "shell.execute_reply.started": "2024-09-09T18:12:16.076118Z"
    },
    "tags": []
   },
   "outputs": [],
   "source": [
    "def photo_city_generate(city, output_folder = \"images\"):\n",
    "    prompt = f\"Нарисуй реалистичное узнаваемое изображение вида города {city} в России, включая его достопримечательности, для использования на сайте\"\n",
    "    yaart_request = requests.post(\n",
    "            url ='https://llm.api.cloud.yandex.net/foundationModels/v1/imageGenerationAsync',\n",
    "            headers = \n",
    "                {\"Authorization\": f\"Bearer {iam_token}\",\n",
    "                \"x-folder-id\":os.environ['model_dir_id']},\n",
    "            json =\n",
    "                {\"modelUri\":\"art://\"+os.environ['model_dir_id']+\"/yandex-art/latest\",\n",
    "                 \"messages\":[{\"text\": prompt,\n",
    "                              \"weight\":1}],\n",
    "                 \"generationOptions\":{\"mimeType\":\"image/jpeg\",\"seed\":4900090131875000,\n",
    "                                      \"aspectRatio\": {\n",
    "      \"widthRatio\": \"1400\",\n",
    "      \"heightRatio\": \"400\"\n",
    "    }}}\n",
    ")\n",
    "    id_operation = json.loads(yaart_request.text)['id']\n",
    "    #print(id_operation)\n",
    "    time.sleep(180)\n",
    "    yaart_request2 = requests.get(\n",
    "            url ='https://llm.api.cloud.yandex.net:443/operations/' + id_operation,\n",
    "            headers = \n",
    "                {\"Authorization\": f\"Bearer {iam_token}\",\n",
    "                \"x-folder-id\":os.environ['model_dir_id']})\n",
    "    yaart_r2 = json.loads(yaart_request2.text)['response']['image']\n",
    "    #print(yaart_r2[0:100])\n",
    "    \n",
    "    # Декодируем строку base64 в байты\n",
    "    image_data = base64.b64decode(yaart_r2)\n",
    "    image = Image.open(BytesIO(image_data))\n",
    "    # Создаем папку, если не существует\n",
    "    if not os.path.exists(output_folder):\n",
    "        os.makedirs(output_folder)\n",
    "    # Полный путь к файлу\n",
    "    output_path = os.path.join(output_folder, city + \".jpg\")\n",
    "    \n",
    "    # Сохраняем изображение в папку\n",
    "    image.save(output_path, format=\"JPEG\")\n",
    "    image.show()\n",
    "\n",
    "    \n",
    "    \n",
    "photo_city_generate(\"Москва\")\n",
    "    "
   ]
  },
  {
   "cell_type": "code",
   "execution_count": 5,
   "id": "72f391f8-4672-4554-b1b0-117cb97e2827",
   "metadata": {
    "execution": {
     "iopub.execute_input": "2024-09-09T18:15:46.805811Z",
     "iopub.status.busy": "2024-09-09T18:15:46.804578Z",
     "iopub.status.idle": "2024-09-09T18:27:52.466693Z",
     "shell.execute_reply": "2024-09-09T18:27:52.465701Z",
     "shell.execute_reply.started": "2024-09-09T18:15:46.805748Z"
    },
    "tags": []
   },
   "outputs": [
    {
     "data": {
      "application/vnd.jupyter.widget-view+json": {
       "model_id": "f1a28b9981c74d79abc0deea0d2c7398",
       "version_major": 2,
       "version_minor": 0
      },
      "text/plain": [
       "Processing:   0%|          | 0/4 [00:00<?, ?iter/s]"
      ]
     },
     "metadata": {},
     "output_type": "display_data"
    },
    {
     "name": "stderr",
     "output_type": "stream",
     "text": [
      "/usr/bin/xdg-open: 882: www-browser: not found\n",
      "/usr/bin/xdg-open: 882: links2: not found\n",
      "/usr/bin/xdg-open: 882: elinks: not found\n",
      "/usr/bin/xdg-open: 882: links: not found\n",
      "/usr/bin/xdg-open: 882: lynx: not found\n",
      "/usr/bin/xdg-open: 882: w3m: not found\n",
      "xdg-open: no method available for opening '/tmp/tmpmgt0b3k0.PNG'\n",
      "/usr/bin/xdg-open: 882: www-browser: not found\n",
      "/usr/bin/xdg-open: 882: links2: not found\n",
      "/usr/bin/xdg-open: 882: elinks: not found\n",
      "/usr/bin/xdg-open: 882: links: not found\n",
      "/usr/bin/xdg-open: 882: lynx: not found\n",
      "/usr/bin/xdg-open: 882: w3m: not found\n",
      "xdg-open: no method available for opening '/tmp/tmp3n37xrxp.PNG'\n",
      "/usr/bin/xdg-open: 882: www-browser: not found\n",
      "/usr/bin/xdg-open: 882: links2: not found\n",
      "/usr/bin/xdg-open: 882: elinks: not found\n",
      "/usr/bin/xdg-open: 882: links: not found\n",
      "/usr/bin/xdg-open: 882: lynx: not found\n",
      "/usr/bin/xdg-open: 882: w3m: not found\n",
      "xdg-open: no method available for opening '/tmp/tmpq6g5z3c6.PNG'\n"
     ]
    }
   ],
   "source": [
    "for city in tqdm(cities, desc=\"Processing\", unit=\"iter\"):\n",
    "    photo_city_generate(city)"
   ]
  },
  {
   "cell_type": "code",
   "execution_count": null,
   "id": "1383545c-9bfd-4563-b9f3-5f1785ff0c24",
   "metadata": {},
   "outputs": [],
   "source": []
  }
 ],
 "metadata": {
  "kernelspec": {
   "display_name": "DataSphere Kernel",
   "language": "python",
   "name": "python3"
  },
  "language_info": {
   "codemirror_mode": {
    "name": "ipython",
    "version": 3
   },
   "file_extension": ".py",
   "mimetype": "text/x-python",
   "name": "python",
   "nbconvert_exporter": "python",
   "pygments_lexer": "ipython3",
   "version": "3.10.12"
  }
 },
 "nbformat": 4,
 "nbformat_minor": 5
}
